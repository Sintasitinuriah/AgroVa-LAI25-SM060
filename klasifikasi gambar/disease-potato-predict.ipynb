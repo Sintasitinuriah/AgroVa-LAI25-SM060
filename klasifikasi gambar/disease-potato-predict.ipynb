{
 "cells": [
  {
   "cell_type": "code",
   "execution_count": 1,
   "metadata": {
    "execution": {
     "iopub.execute_input": "2025-06-08T00:24:02.028909Z",
     "iopub.status.busy": "2025-06-08T00:24:02.027548Z",
     "iopub.status.idle": "2025-06-08T00:24:19.626643Z",
     "shell.execute_reply": "2025-06-08T00:24:19.625622Z",
     "shell.execute_reply.started": "2025-06-08T00:24:02.028874Z"
    },
    "trusted": true
   },
   "outputs": [],
   "source": [
    "import tensorflow as tf\n",
    "from tensorflow.keras import layers, models\n",
    "from tensorflow.keras.applications import ResNet50, MobileNet\n",
    "from tensorflow.keras.preprocessing.image import ImageDataGenerator\n",
    "from tensorflow.keras.callbacks import EarlyStopping, ReduceLROnPlateau\n",
    "import os"
   ]
  },
  {
   "cell_type": "code",
   "execution_count": 2,
   "metadata": {
    "execution": {
     "iopub.execute_input": "2025-06-08T00:24:19.628576Z",
     "iopub.status.busy": "2025-06-08T00:24:19.627953Z",
     "iopub.status.idle": "2025-06-08T00:24:20.534088Z",
     "shell.execute_reply": "2025-06-08T00:24:20.533108Z",
     "shell.execute_reply.started": "2025-06-08T00:24:19.628552Z"
    },
    "trusted": true
   },
   "outputs": [
    {
     "name": "stdout",
     "output_type": "stream",
     "text": [
      "Found 3251 images belonging to 3 classes.\n",
      "Found 416 images belonging to 3 classes.\n",
      "Found 405 images belonging to 3 classes.\n"
     ]
    }
   ],
   "source": [
    "# ==== SETUP ====\n",
    "img_size = (224, 224)\n",
    "batch_size = 32\n",
    "num_classes = 15\n",
    "train_dir = 'C:/Users/Sinta/Documents/Larskar AI/Capstone/prediksi_penyakit_tanaman/dataset/data_potato/Training'\n",
    "val_dir = 'C:/Users/Sinta/Documents/Larskar AI/Capstone/prediksi_penyakit_tanaman/dataset/data_potato/Validation'\n",
    "test_dir = 'C:/Users/Sinta/Documents/Larskar AI/Capstone/prediksi_penyakit_tanaman/dataset/data_potato/Testing'\n",
    "\n",
    "# ==== DATA AUGMENTATION ====\n",
    "train_datagen = ImageDataGenerator(\n",
    "    rescale=1./255,\n",
    "    rotation_range=20,\n",
    "    width_shift_range=0.1,\n",
    "    height_shift_range=0.1,\n",
    "    zoom_range=0.2,\n",
    "    shear_range=0.1,\n",
    "    horizontal_flip=True\n",
    ")\n",
    "\n",
    "val_datagen = ImageDataGenerator(rescale=1./255)\n",
    "test_datagen = ImageDataGenerator(rescale=1./255)\n",
    "\n",
    "train_generator = train_datagen.flow_from_directory(\n",
    "    train_dir,\n",
    "    target_size=img_size,\n",
    "    batch_size=batch_size,\n",
    "    class_mode='sparse'  # Gunakan 'sparse' jika label berupa angka\n",
    ")\n",
    "\n",
    "val_generator = val_datagen.flow_from_directory(\n",
    "    val_dir,\n",
    "    target_size=img_size,\n",
    "    batch_size=batch_size,\n",
    "    class_mode='sparse'\n",
    ")\n",
    "\n",
    "test_generator = test_datagen.flow_from_directory(\n",
    "    test_dir,\n",
    "    target_size=img_size,\n",
    "    batch_size=batch_size,\n",
    "    class_mode='sparse',\n",
    "    shuffle=False\n",
    ")"
   ]
  },
  {
   "cell_type": "code",
   "execution_count": 3,
   "metadata": {
    "execution": {
     "iopub.execute_input": "2025-06-08T00:39:51.209288Z",
     "iopub.status.busy": "2025-06-08T00:39:51.208558Z",
     "iopub.status.idle": "2025-06-08T00:39:51.380855Z",
     "shell.execute_reply": "2025-06-08T00:39:51.379848Z",
     "shell.execute_reply.started": "2025-06-08T00:39:51.209257Z"
    },
    "trusted": true
   },
   "outputs": [],
   "source": [
    "model = models.Sequential([\n",
    "    layers.Conv2D(32, (3, 3), activation='relu', input_shape=img_size + (3,)),\n",
    "    layers.MaxPooling2D((2, 2)),\n",
    "\n",
    "    layers.Conv2D(64, (3, 3), activation='relu'),\n",
    "    layers.MaxPooling2D((2, 2)),\n",
    "\n",
    "    layers.Conv2D(128, (3, 3), activation='relu'),\n",
    "    layers.MaxPooling2D((2, 2)),\n",
    "\n",
    "    layers.Flatten(),\n",
    "    layers.Dense(128, activation='relu'),\n",
    "    layers.Dropout(0.5),\n",
    "    layers.Dense(num_classes, activation='softmax')\n",
    "])\n",
    "\n",
    "# ==== COMPILE ====\n",
    "model.compile(\n",
    "    optimizer='adam',\n",
    "    loss='sparse_categorical_crossentropy',\n",
    "    metrics=['accuracy']\n",
    ")\n",
    "\n",
    "# ==== CALLBACKS ====\n",
    "callbacks = [\n",
    "    EarlyStopping(monitor='val_loss', patience=5, restore_best_weights=True),\n",
    "    ReduceLROnPlateau(monitor='val_loss', factor=0.5, patience=3)\n",
    "]"
   ]
  },
  {
   "cell_type": "code",
   "execution_count": 4,
   "metadata": {
    "execution": {
     "iopub.execute_input": "2025-06-08T00:40:02.647420Z",
     "iopub.status.busy": "2025-06-08T00:40:02.647080Z",
     "iopub.status.idle": "2025-06-08T01:35:55.237298Z",
     "shell.execute_reply": "2025-06-08T01:35:55.236507Z",
     "shell.execute_reply.started": "2025-06-08T00:40:02.647385Z"
    },
    "trusted": true
   },
   "outputs": [
    {
     "name": "stdout",
     "output_type": "stream",
     "text": [
      "Epoch 1/15\n",
      "102/102 [==============================] - 289s 3s/step - loss: 1.1650 - accuracy: 0.4562 - val_loss: 0.9184 - val_accuracy: 0.5721 - lr: 0.0010\n",
      "Epoch 2/15\n",
      "102/102 [==============================] - 196s 2s/step - loss: 0.8292 - accuracy: 0.6481 - val_loss: 0.6166 - val_accuracy: 0.7524 - lr: 0.0010\n",
      "Epoch 3/15\n",
      "102/102 [==============================] - 207s 2s/step - loss: 0.6913 - accuracy: 0.7259 - val_loss: 0.4960 - val_accuracy: 0.8462 - lr: 0.0010\n",
      "Epoch 4/15\n",
      "102/102 [==============================] - 212s 2s/step - loss: 0.6178 - accuracy: 0.7527 - val_loss: 0.3945 - val_accuracy: 0.8798 - lr: 0.0010\n",
      "Epoch 5/15\n",
      "102/102 [==============================] - 214s 2s/step - loss: 0.5263 - accuracy: 0.7964 - val_loss: 0.3969 - val_accuracy: 0.8462 - lr: 0.0010\n",
      "Epoch 6/15\n",
      "102/102 [==============================] - 185s 2s/step - loss: 0.4888 - accuracy: 0.8096 - val_loss: 0.4128 - val_accuracy: 0.8413 - lr: 0.0010\n",
      "Epoch 7/15\n",
      "102/102 [==============================] - 183s 2s/step - loss: 0.4729 - accuracy: 0.8259 - val_loss: 0.3448 - val_accuracy: 0.8942 - lr: 0.0010\n",
      "Epoch 8/15\n",
      "102/102 [==============================] - 174s 2s/step - loss: 0.4872 - accuracy: 0.8216 - val_loss: 0.3529 - val_accuracy: 0.8774 - lr: 0.0010\n",
      "Epoch 9/15\n",
      "102/102 [==============================] - 164s 2s/step - loss: 0.3563 - accuracy: 0.8683 - val_loss: 0.2402 - val_accuracy: 0.9087 - lr: 0.0010\n",
      "Epoch 10/15\n",
      "102/102 [==============================] - 192s 2s/step - loss: 0.3205 - accuracy: 0.8831 - val_loss: 0.2371 - val_accuracy: 0.8990 - lr: 0.0010\n",
      "Epoch 11/15\n",
      "102/102 [==============================] - 205s 2s/step - loss: 0.3089 - accuracy: 0.9010 - val_loss: 0.2914 - val_accuracy: 0.8894 - lr: 0.0010\n",
      "Epoch 12/15\n",
      "102/102 [==============================] - 176s 2s/step - loss: 0.2992 - accuracy: 0.8979 - val_loss: 0.2212 - val_accuracy: 0.9135 - lr: 0.0010\n",
      "Epoch 13/15\n",
      "102/102 [==============================] - 179s 2s/step - loss: 0.2710 - accuracy: 0.9080 - val_loss: 0.1955 - val_accuracy: 0.9303 - lr: 0.0010\n",
      "Epoch 14/15\n",
      "102/102 [==============================] - 177s 2s/step - loss: 0.2505 - accuracy: 0.9142 - val_loss: 0.1580 - val_accuracy: 0.9495 - lr: 0.0010\n",
      "Epoch 15/15\n",
      "102/102 [==============================] - 196s 2s/step - loss: 0.2190 - accuracy: 0.9299 - val_loss: 0.1354 - val_accuracy: 0.9447 - lr: 0.0010\n"
     ]
    }
   ],
   "source": [
    "\n",
    "# ==== TRAIN INITIAL ====\n",
    "history = model.fit(\n",
    "    train_generator,\n",
    "    epochs=15,\n",
    "    validation_data=val_generator,\n",
    "    callbacks=callbacks\n",
    ")"
   ]
  },
  {
   "cell_type": "code",
   "execution_count": 5,
   "metadata": {
    "execution": {
     "iopub.execute_input": "2025-06-08T02:02:05.241152Z",
     "iopub.status.busy": "2025-06-08T02:02:05.240238Z",
     "iopub.status.idle": "2025-06-08T02:02:16.060484Z",
     "shell.execute_reply": "2025-06-08T02:02:16.059183Z",
     "shell.execute_reply.started": "2025-06-08T02:02:05.241117Z"
    },
    "trusted": true
   },
   "outputs": [
    {
     "name": "stdout",
     "output_type": "stream",
     "text": [
      "13/13 [==============================] - 10s 762ms/step - loss: 0.1672 - accuracy: 0.9457\n",
      "\n",
      "Test Accuracy: 0.9457\n"
     ]
    }
   ],
   "source": [
    "# ==== EVALUATION ====\n",
    "test_loss, test_acc = model.evaluate(test_generator)\n",
    "print(f\"\\nTest Accuracy: {test_acc:.4f}\")\n",
    "\n",
    "# ==== SAVE MODEL ====\n",
    "model.save('C:/Users/Sinta/Documents/Larskar AI/Capstone/AgroVA-app/models/predict_disease_model_potato.h5')"
   ]
  },
  {
   "cell_type": "code",
   "execution_count": 6,
   "metadata": {
    "execution": {
     "iopub.execute_input": "2025-06-08T02:04:59.825155Z",
     "iopub.status.busy": "2025-06-08T02:04:59.824503Z",
     "iopub.status.idle": "2025-06-08T02:05:08.988359Z",
     "shell.execute_reply": "2025-06-08T02:05:08.987451Z",
     "shell.execute_reply.started": "2025-06-08T02:04:59.825125Z"
    },
    "trusted": true
   },
   "outputs": [
    {
     "name": "stdout",
     "output_type": "stream",
     "text": [
      "13/13 [==============================] - 5s 390ms/step\n",
      "              precision    recall  f1-score   support\n",
      "\n",
      "Early_Blight       0.92      0.96      0.94       162\n",
      "     Healthy       0.97      0.89      0.93       102\n",
      " Late_Blight       0.96      0.96      0.96       141\n",
      "\n",
      "    accuracy                           0.95       405\n",
      "   macro avg       0.95      0.94      0.94       405\n",
      "weighted avg       0.95      0.95      0.95       405\n",
      "\n"
     ]
    },
    {
     "data": {
      "image/png": "[encoded data removed]",
      "text/plain": [
       "<Figure size 800x600 with 2 Axes>"
      ]
     },
     "metadata": {},
     "output_type": "display_data"
    }
   ],
   "source": [
    "import numpy as np\n",
    "from sklearn.metrics import classification_report, confusion_matrix\n",
    "import matplotlib.pyplot as plt\n",
    "import seaborn as sns\n",
    "\n",
    "# Prediksi\n",
    "y_pred = model.predict(test_generator)\n",
    "y_pred_classes = np.argmax(y_pred, axis=1)\n",
    "y_true = test_generator.classes\n",
    "class_labels = list(test_generator.class_indices.keys())\n",
    "\n",
    "# Classification report\n",
    "print(classification_report(y_true, y_pred_classes, target_names=class_labels))\n",
    "\n",
    "# Confusion matrix\n",
    "cm = confusion_matrix(y_true, y_pred_classes)\n",
    "plt.figure(figsize=(8, 6))\n",
    "sns.heatmap(cm, annot=True, fmt='d', xticklabels=class_labels, yticklabels=class_labels, cmap='Blues')\n",
    "plt.title('Confusion Matrix')\n",
    "plt.xlabel('Predicted')\n",
    "plt.ylabel('True')\n",
    "plt.show()"
   ]
  },
  {
   "cell_type": "code",
   "execution_count": 8,
   "metadata": {
    "trusted": true
   },
   "outputs": [],
   "source": [
    "# Convert .h5 ke tflite_model\n",
    "import tensorflow as tf\n",
    "\n",
    "# Ganti dengan path model kamu\n",
    "model = tf.keras.models.load_model('C:/Users/Sinta/Documents/Larskar AI/Capstone/AgroVA-app/models/predict_disease_model_potato.h5')"
   ]
  },
  {
   "cell_type": "code",
   "execution_count": 9,
   "metadata": {},
   "outputs": [
    {
     "name": "stderr",
     "output_type": "stream",
     "text": [
      "WARNING:absl:Found untraced functions such as _jit_compiled_convolution_op, _jit_compiled_convolution_op, _jit_compiled_convolution_op while saving (showing 3 of 3). These functions will not be directly callable after loading.\n"
     ]
    },
    {
     "name": "stdout",
     "output_type": "stream",
     "text": [
      "INFO:tensorflow:Assets written to: C:\\Users\\Sinta\\AppData\\Local\\Temp\\tmptti6irgj\\assets\n"
     ]
    },
    {
     "name": "stderr",
     "output_type": "stream",
     "text": [
      "INFO:tensorflow:Assets written to: C:\\Users\\Sinta\\AppData\\Local\\Temp\\tmptti6irgj\\assets\n"
     ]
    }
   ],
   "source": [
    "converter = tf.lite.TFLiteConverter.from_keras_model(model)\n",
    "tflite_model = converter.convert()\n",
    "\n",
    "with open('C:/Users/Sinta/Documents/Larskar AI/Capstone/AgroVA-app/models/predict_model_disease_potato.tflite', 'wb') as f:\n",
    "    f.write(tflite_model)"
   ]
  },
  {
   "cell_type": "code",
   "execution_count": null,
   "metadata": {},
   "outputs": [],
   "source": []
  }
 ],
 "metadata": {
  "kaggle": {
   "accelerator": "none",
   "dataSources": [
    {
     "datasetId": 1562973,
     "sourceId": 2574068,
     "sourceType": "datasetVersion"
    },
    {
     "datasetId": 4611404,
     "sourceId": 8094053,
     "sourceType": "datasetVersion"
    },
    {
     "sourceId": 117457073,
     "sourceType": "kernelVersion"
    }
   ],
   "dockerImageVersionId": 31040,
   "isGpuEnabled": false,
   "isInternetEnabled": false,
   "language": "python",
   "sourceType": "notebook"
  },
  "kernelspec": {
   "display_name": "tensorflow",
   "language": "python",
   "name": "python3"
  },
  "language_info": {
   "codemirror_mode": {
    "name": "ipython",
    "version": 3
   },
   "file_extension": ".py",
   "mimetype": "text/x-python",
   "name": "python",
   "nbconvert_exporter": "python",
   "pygments_lexer": "ipython3",
   "version": "3.9.19"
  }
 },
 "nbformat": 4,
 "nbformat_minor": 4
}
