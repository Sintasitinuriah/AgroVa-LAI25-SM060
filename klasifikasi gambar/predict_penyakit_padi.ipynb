{
 "cells": [
  {
   "cell_type": "code",
   "execution_count": null,
   "id": "353f591a",
   "metadata": {},
   "outputs": [],
   "source": [
    "import tensorflow as tf\n",
    "import os\n",
    "from tensorflow.keras.applications import ResNet50, MobileNet\n",
    "from tensorflow.keras import layers, models\n",
    "from sklearn.model_selection import train_test_split\n",
    "import numpy as np"
   ]
  },
  {
   "cell_type": "code",
   "execution_count": 2,
   "id": "c2cc5f48",
   "metadata": {},
   "outputs": [
    {
     "name": "stdout",
     "output_type": "stream",
     "text": [
      "Found 5932 files belonging to 4 classes.\n"
     ]
    }
   ],
   "source": [
    "# Parameters\n",
    "batch_size = 32\n",
    "img_size = (224, 224)\n",
    "data_dir = \"C:/Users/Sinta/Documents/Larskar AI/Capstone/prediksi_penyakit_tanaman/dataset/data_rice\"\n",
    "\n",
    "# Load dataset (tanpa split dulu)\n",
    "full_dataset = tf.keras.preprocessing.image_dataset_from_directory(\n",
    "    data_dir,\n",
    "    image_size=img_size,\n",
    "    batch_size=None,  # Load as tf.data.Dataset of single samples\n",
    "    shuffle=True\n",
    ")\n",
    "\n",
    "# Convert to list\n",
    "full_dataset = list(full_dataset)\n",
    "images = [x[0].numpy() for x in full_dataset]\n",
    "labels = [x[1].numpy() for x in full_dataset]"
   ]
  },
  {
   "cell_type": "code",
   "execution_count": 3,
   "id": "ceefb1c0",
   "metadata": {},
   "outputs": [],
   "source": [
    "# Split ke train/val/test: 60/20/20\n",
    "X_temp, X_test, y_temp, y_test = train_test_split(images, labels, test_size=0.2, random_state=42, stratify=labels)\n",
    "X_train, X_val, y_train, y_val = train_test_split(X_temp, y_temp, test_size=0.25, random_state=42, stratify=y_temp)\n",
    "\n",
    "# Convert ke tf.data.Dataset\n",
    "train_ds = tf.data.Dataset.from_tensor_slices((X_train, y_train)).batch(batch_size).prefetch(tf.data.AUTOTUNE)\n",
    "val_ds   = tf.data.Dataset.from_tensor_slices((X_val, y_val)).batch(batch_size).prefetch(tf.data.AUTOTUNE)\n",
    "test_ds  = tf.data.Dataset.from_tensor_slices((X_test, y_test)).batch(batch_size).prefetch(tf.data.AUTOTUNE)\n",
    "\n",
    "# Normalisasi\n",
    "normalization_layer = tf.keras.layers.Rescaling(1./255)\n",
    "train_ds = train_ds.map(lambda x, y: (normalization_layer(x), y))\n",
    "val_ds   = val_ds.map(lambda x, y: (normalization_layer(x), y))\n",
    "test_ds  = test_ds.map(lambda x, y: (normalization_layer(x), y))\n",
    "\n",
    "# Dapatkan jumlah kelas\n",
    "class_names = sorted(os.listdir(data_dir))\n",
    "num_classes = len(class_names)"
   ]
  },
  {
   "cell_type": "code",
   "execution_count": 5,
   "id": "0daf9366",
   "metadata": {},
   "outputs": [],
   "source": [
    "model = models.Sequential([\n",
    "    layers.Conv2D(32, (3, 3), activation='relu', input_shape=img_size + (3,)),\n",
    "    layers.MaxPooling2D((2, 2)),\n",
    "\n",
    "    layers.Conv2D(64, (3, 3), activation='relu'),\n",
    "    layers.MaxPooling2D((2, 2)),\n",
    "\n",
    "    layers.Conv2D(128, (3, 3), activation='relu'),\n",
    "    layers.MaxPooling2D((2, 2)),\n",
    "\n",
    "    layers.Flatten(),\n",
    "    layers.Dense(128, activation='relu'),\n",
    "    layers.Dropout(0.5),\n",
    "    layers.Dense(num_classes, activation='softmax')\n",
    "])"
   ]
  },
  {
   "cell_type": "code",
   "execution_count": 6,
   "id": "897f5ead",
   "metadata": {},
   "outputs": [],
   "source": [
    "model.compile(\n",
    "    optimizer='adam',\n",
    "    loss='sparse_categorical_crossentropy',\n",
    "    metrics=['accuracy']\n",
    ")"
   ]
  },
  {
   "cell_type": "code",
   "execution_count": 7,
   "id": "672ac0c0",
   "metadata": {},
   "outputs": [
    {
     "name": "stdout",
     "output_type": "stream",
     "text": [
      "Epoch 1/20\n",
      "112/112 [==============================] - 449s 4s/step - loss: 1.0604 - accuracy: 0.5736 - val_loss: 0.6599 - val_accuracy: 0.7692\n",
      "Epoch 2/20\n",
      "112/112 [==============================] - 406s 4s/step - loss: 0.6752 - accuracy: 0.7501 - val_loss: 0.4335 - val_accuracy: 0.8349\n",
      "Epoch 3/20\n",
      "112/112 [==============================] - 379s 3s/step - loss: 0.4393 - accuracy: 0.8392 - val_loss: 0.3421 - val_accuracy: 0.8922\n",
      "Epoch 4/20\n",
      "112/112 [==============================] - 416s 4s/step - loss: 0.2849 - accuracy: 0.8991 - val_loss: 0.2556 - val_accuracy: 0.9242\n",
      "Epoch 5/20\n",
      "112/112 [==============================] - 400s 4s/step - loss: 0.2277 - accuracy: 0.9165 - val_loss: 0.3513 - val_accuracy: 0.8863\n",
      "Epoch 6/20\n",
      "112/112 [==============================] - 390s 3s/step - loss: 0.1595 - accuracy: 0.9415 - val_loss: 0.1790 - val_accuracy: 0.9511\n",
      "Epoch 7/20\n",
      "112/112 [==============================] - 399s 4s/step - loss: 0.1447 - accuracy: 0.9511 - val_loss: 0.1881 - val_accuracy: 0.9503\n",
      "Epoch 8/20\n",
      "112/112 [==============================] - 423s 4s/step - loss: 0.0874 - accuracy: 0.9682 - val_loss: 0.1572 - val_accuracy: 0.9596\n",
      "Epoch 9/20\n",
      "112/112 [==============================] - 391s 3s/step - loss: 0.0746 - accuracy: 0.9747 - val_loss: 0.1757 - val_accuracy: 0.9680\n",
      "Epoch 10/20\n",
      "112/112 [==============================] - 322s 3s/step - loss: 0.0702 - accuracy: 0.9764 - val_loss: 0.6213 - val_accuracy: 0.9065\n",
      "Epoch 11/20\n",
      "112/112 [==============================] - 240s 2s/step - loss: 0.1357 - accuracy: 0.9547 - val_loss: 0.1966 - val_accuracy: 0.9663\n",
      "Epoch 12/20\n",
      "112/112 [==============================] - 232s 2s/step - loss: 0.0625 - accuracy: 0.9826 - val_loss: 0.1781 - val_accuracy: 0.9764\n",
      "Epoch 13/20\n",
      "112/112 [==============================] - 235s 2s/step - loss: 0.0545 - accuracy: 0.9795 - val_loss: 0.1554 - val_accuracy: 0.9688\n",
      "Epoch 14/20\n",
      "112/112 [==============================] - 245s 2s/step - loss: 0.0513 - accuracy: 0.9848 - val_loss: 0.2019 - val_accuracy: 0.9722\n",
      "Epoch 15/20\n",
      "112/112 [==============================] - 234s 2s/step - loss: 0.0334 - accuracy: 0.9874 - val_loss: 0.2262 - val_accuracy: 0.9739\n",
      "Epoch 16/20\n",
      "112/112 [==============================] - 209s 2s/step - loss: 0.0295 - accuracy: 0.9888 - val_loss: 0.2230 - val_accuracy: 0.9739\n",
      "Epoch 17/20\n",
      "112/112 [==============================] - 203s 2s/step - loss: 0.0708 - accuracy: 0.9792 - val_loss: 0.2391 - val_accuracy: 0.9697\n",
      "Epoch 18/20\n",
      "112/112 [==============================] - 228s 2s/step - loss: 0.0383 - accuracy: 0.9893 - val_loss: 0.2044 - val_accuracy: 0.9781\n",
      "Epoch 19/20\n",
      "112/112 [==============================] - 219s 2s/step - loss: 0.0334 - accuracy: 0.9890 - val_loss: 0.2153 - val_accuracy: 0.9781\n",
      "Epoch 20/20\n",
      "112/112 [==============================] - 218s 2s/step - loss: 0.0117 - accuracy: 0.9972 - val_loss: 0.2042 - val_accuracy: 0.9798\n"
     ]
    },
    {
     "data": {
      "text/plain": [
       "<keras.callbacks.History at 0x1be3092bb50>"
      ]
     },
     "execution_count": 7,
     "metadata": {},
     "output_type": "execute_result"
    }
   ],
   "source": [
    "# Training\n",
    "model.fit(train_ds, validation_data=val_ds, epochs=20)"
   ]
  },
  {
   "cell_type": "code",
   "execution_count": 8,
   "id": "65b1863d",
   "metadata": {},
   "outputs": [
    {
     "name": "stdout",
     "output_type": "stream",
     "text": [
      "38/38 [==============================] - 19s 462ms/step - loss: 0.1809 - accuracy: 0.9764\n",
      "Test Accuracy: 97.64%\n"
     ]
    }
   ],
   "source": [
    "# Evaluasi\n",
    "loss, acc = model.evaluate(test_ds)\n",
    "print(f\"Test Accuracy: {acc*100:.2f}%\")"
   ]
  },
  {
   "cell_type": "code",
   "execution_count": 9,
   "id": "e39a934b",
   "metadata": {},
   "outputs": [],
   "source": [
    "# ==== SAVE MODEL ====\n",
    "model.save('C:/Users/Sinta/Documents/Larskar AI/Capstone/prediksi_penyakit_tanaman/dataset/models/predict_disease_model_rice.h5')"
   ]
  },
  {
   "cell_type": "code",
   "execution_count": 12,
   "id": "554a1a58",
   "metadata": {},
   "outputs": [
    {
     "name": "stdout",
     "output_type": "stream",
     "text": [
      "38/38 [==============================] - 39s 992ms/step\n"
     ]
    }
   ],
   "source": [
    "# Ambil label sebenarnya\n",
    "y_true = np.concatenate([y for x, y in test_ds], axis=0)\n",
    "\n",
    "# Lakukan prediksi\n",
    "y_pred_probs = model.predict(test_ds)\n",
    "y_pred = np.argmax(y_pred_probs, axis=1)"
   ]
  },
  {
   "cell_type": "code",
   "execution_count": 13,
   "id": "3f1dcdd7",
   "metadata": {},
   "outputs": [
    {
     "name": "stdout",
     "output_type": "stream",
     "text": [
      "                 precision    recall  f1-score   support\n",
      "\n",
      "Bacterialblight       0.96      0.97      0.96       317\n",
      "          Blast       0.99      0.98      0.98       288\n",
      "      Brownspot       0.98      0.99      0.98       320\n",
      "         Tungro       0.98      0.98      0.98       262\n",
      "\n",
      "       accuracy                           0.98      1187\n",
      "      macro avg       0.98      0.98      0.98      1187\n",
      "   weighted avg       0.98      0.98      0.98      1187\n",
      "\n"
     ]
    },
    {
     "data": {
      "image/png": "[encoded data removed]",
      "text/plain": [
       "<Figure size 1000x800 with 2 Axes>"
      ]
     },
     "metadata": {},
     "output_type": "display_data"
    }
   ],
   "source": [
    "from sklearn.metrics import classification_report, confusion_matrix\n",
    "import matplotlib.pyplot as plt\n",
    "import seaborn as sns\n",
    "\n",
    "# Classification report\n",
    "print(classification_report(y_true, y_pred, target_names=class_names))\n",
    "\n",
    "# Confusion matrix\n",
    "cm = confusion_matrix(y_true, y_pred)\n",
    "plt.figure(figsize=(10, 8))\n",
    "sns.heatmap(cm, annot=True, fmt='d', cmap='Blues',\n",
    "            xticklabels=class_names, yticklabels=class_names)\n",
    "plt.xlabel('Predicted')\n",
    "plt.ylabel('True')\n",
    "plt.title('Confusion Matrix')\n",
    "plt.show()"
   ]
  },
  {
   "cell_type": "code",
   "execution_count": null,
   "id": "57d29994",
   "metadata": {},
   "outputs": [],
   "source": []
  }
 ],
 "metadata": {
  "kernelspec": {
   "display_name": "tensorflow",
   "language": "python",
   "name": "python3"
  },
  "language_info": {
   "codemirror_mode": {
    "name": "ipython",
    "version": 3
   },
   "file_extension": ".py",
   "mimetype": "text/x-python",
   "name": "python",
   "nbconvert_exporter": "python",
   "pygments_lexer": "ipython3",
   "version": "3.9.19"
  }
 },
 "nbformat": 4,
 "nbformat_minor": 5
}
